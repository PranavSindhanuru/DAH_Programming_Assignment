{
 "cells": [
  {
   "cell_type": "code",
   "execution_count": 131,
   "id": "d38aaf6a",
   "metadata": {},
   "outputs": [],
   "source": [
    "import threading\n",
    "import string"
   ]
  },
  {
   "cell_type": "code",
   "execution_count": 132,
   "id": "86b20fdf",
   "metadata": {},
   "outputs": [],
   "source": [
    "input_file = str()\n",
    "with open('input.txt', 'r') as file:\n",
    "    input_file = file.read()\n",
    "for i in input_file:\n",
    "    if i in string.punctuation:\n",
    "        input_file = input_file.replace(i, \"\")"
   ]
  },
  {
   "cell_type": "code",
   "execution_count": 133,
   "id": "df9678e2",
   "metadata": {},
   "outputs": [],
   "source": [
    "def map_function(input_str):\n",
    "    words = input_str.split()\n",
    "    return [(word, 1) for word in words]"
   ]
  },
  {
   "cell_type": "code",
   "execution_count": 134,
   "id": "386936e6",
   "metadata": {},
   "outputs": [],
   "source": [
    "def reduce_function(key, values):\n",
    "    return (key, sum(values))"
   ]
  },
  {
   "cell_type": "code",
   "execution_count": 135,
   "id": "28692e22",
   "metadata": {},
   "outputs": [],
   "source": [
    "def shuffle_function(mapped_values):\n",
    "    shuffled = {}\n",
    "    for k, v in mapped_values:\n",
    "        if k not in shuffled:\n",
    "            shuffled[k] = []\n",
    "        shuffled[k].append(v)\n",
    "    return shuffled.items()"
   ]
  },
  {
   "cell_type": "code",
   "execution_count": 136,
   "id": "6ba928a1",
   "metadata": {},
   "outputs": [],
   "source": [
    "def map_reduce(input_data, num_threads):\n",
    "    chunk_size = len(input_data) // num_threads\n",
    "    chunks = [input_data[i : i + chunk_size] for i in range(0, len(input_data), chunk_size)]\n",
    "    threads = []\n",
    "    for chunk in chunks:\n",
    "        thread = threading.Thread(target=map_reduce_worker, args=(chunk,))\n",
    "        threads.append(thread)\n",
    "        thread.start()\n",
    "\n",
    "    for thread in threads:\n",
    "        thread.join()"
   ]
  },
  {
   "cell_type": "code",
   "execution_count": 137,
   "id": "152cb362",
   "metadata": {},
   "outputs": [],
   "source": [
    "def map_reduce_worker(input_data):\n",
    "    mapped_values = map_function(input_data)\n",
    "    shuffled_values = shuffle_function(mapped_values)\n",
    "    reduced_values = [reduce_function(key, values) for key, values in shuffled_values]\n",
    "    for i in reduced_values:\n",
    "        print(f'{i[0]} : {i[1]}')\n",
    "        with open('output.txt', 'a') as file:\n",
    "            file.write(f'{i[0]} : {i[1]}\\n')\n"
   ]
  },
  {
   "cell_type": "code",
   "execution_count": 138,
   "id": "4a72d3ca",
   "metadata": {},
   "outputs": [
    {
     "name": "stdout",
     "output_type": "stream",
     "text": [
      "The : 4\n",
      "quick : 2\n",
      "brown : 2\n",
      "fox : 2\n",
      "jumped : 1\n",
      "over : 1\n",
      "the : 6\n",
      "lazy : 3\n",
      "dog : 3\n",
      "slept : 1\n",
      "in : 1\n",
      "shade : 1\n",
      "of : 1\n",
      "tree : 2\n",
      "ate : 1\n",
      "rabbit : 1\n",
      "chased : 1\n",
      "squirrel : 1\n",
      "up : 1\n"
     ]
    }
   ],
   "source": [
    "map_reduce(input_file, num_threads=1)"
   ]
  },
  {
   "cell_type": "code",
   "execution_count": 139,
   "id": "a50b83d1",
   "metadata": {},
   "outputs": [],
   "source": [
    "!pip freeze > requirements.txt"
   ]
  },
  {
   "cell_type": "code",
   "execution_count": null,
   "id": "efb2044b",
   "metadata": {},
   "outputs": [],
   "source": []
  }
 ],
 "metadata": {
  "kernelspec": {
   "display_name": "Python 3 (ipykernel)",
   "language": "python",
   "name": "python3"
  },
  "language_info": {
   "codemirror_mode": {
    "name": "ipython",
    "version": 3
   },
   "file_extension": ".py",
   "mimetype": "text/x-python",
   "name": "python",
   "nbconvert_exporter": "python",
   "pygments_lexer": "ipython3",
   "version": "3.8.10"
  }
 },
 "nbformat": 4,
 "nbformat_minor": 5
}
